{
  "nbformat": 4,
  "nbformat_minor": 0,
  "metadata": {
    "colab": {
      "provenance": []
    },
    "kernelspec": {
      "name": "python3",
      "display_name": "Python 3"
    },
    "language_info": {
      "name": "python"
    }
  },
  "cells": [
    {
      "cell_type": "markdown",
      "source": [
        "# Theory question"
      ],
      "metadata": {
        "id": "C3F51bCo4eVB"
      }
    },
    {
      "cell_type": "markdown",
      "source": [
        "q.no. 1) What are data structures, and why are they important ?"
      ],
      "metadata": {
        "id": "aIVTTZ18u_LW"
      }
    },
    {
      "cell_type": "markdown",
      "source": [
        "        -> Python allows us to store all the data in our data structures. We can modify or store this data in the computer's memory. This is important because it helps me with algorithms and complex programs, also allow us to manage data in a way that makes senseable"
      ],
      "metadata": {
        "id": "GR0QLOcCx2pA"
      }
    },
    {
      "cell_type": "markdown",
      "source": [
        " q.no.2)Explain the difference between mutable and immutable data types with examples?"
      ],
      "metadata": {
        "id": "E200qzz3yHLn"
      }
    },
    {
      "cell_type": "markdown",
      "source": [
        "      -> In python have  mutable and immutable are both data types. Both of them store data but there is a difference between them.\n",
        "      immutable: We cannot modify the data stored in it even after its creation, ex- string, tuple.\n",
        "       mutable: We can modify its data even after its creation, ex- list,dictinary\n"
      ],
      "metadata": {
        "id": "ickT6jqJyTcG"
      }
    },
    {
      "cell_type": "markdown",
      "source": [
        "q.no.3) What are the main differences between lists and tuples in Python ?"
      ],
      "metadata": {
        "id": "JN6aSWt30yK_"
      }
    },
    {
      "cell_type": "markdown",
      "source": [
        "         -> list: list python stores my data we can store this data in one place it stores data of different data types every data is given a different index number the list is mutable syntex-[]\n",
        "         tuple: it also stores different types of data but it is immutable their size is fixed, Python can optimize their storage and access syntex-()"
      ],
      "metadata": {
        "id": "ZnIxQGc11Esu"
      }
    },
    {
      "cell_type": "markdown",
      "source": [
        "q.no.4) Describe how dictionaries store data ?"
      ],
      "metadata": {
        "id": "_2qVkk3g22MJ"
      }
    },
    {
      "cell_type": "markdown",
      "source": [
        "        -> genrally dic() (built-in data structur) are store the data in form of key:value ,\n",
        "        Key: A unique identifier that you use to look up or access a corresponding value. Keys must be immutable\n",
        "        Value: The actual data associated with a key. Values can be of any data type, including other dictionaries, lists, or custom objects, and they can be duplicated."
      ],
      "metadata": {
        "id": "D0P_c1Dn3J93"
      }
    },
    {
      "cell_type": "markdown",
      "source": [
        "q.no.5) Why might you use a set instead of a list in Python?\n",
        "        "
      ],
      "metadata": {
        "id": "9WUy0O-24FiT"
      }
    },
    {
      "cell_type": "markdown",
      "source": [
        "        -> The main reasons is use the set instead of a list when we store uniqe data\n",
        "         sets are Automatically ensure that all elements are unique, if store the duplicats sets are ignore these values. but List Allow duplicate elements.\n",
        "         when we work methematics on data set Provide built-in methods for common mathematical set operations like union, intersection, difference, and symmetric difference, which are very efficient, List Do not have direct equivalents for these operations, and you would have to implement them manually, which would be less efficient and more verbose.\n",
        "\n"
      ],
      "metadata": {
        "id": "gEIahW654R6Y"
      }
    },
    {
      "cell_type": "markdown",
      "source": [
        "q.no.6)What is a string in Python, and how is it different from a list?"
      ],
      "metadata": {
        "id": "l-0VPeGj6csZ"
      }
    },
    {
      "cell_type": "markdown",
      "source": [
        "        ->In python string is a seqence of charecters it is an immutable data type that means if a string a create once its content cannot be change , in string data store in odered and its difines by (\"\"),(\"\"\"...\"\"\"),('..')\n",
        "        this diffrent from list because list are mutable  this contain diffrent item of diffrent data type eg-int,float,string"
      ],
      "metadata": {
        "id": "kwc76kyMB6ow"
      }
    },
    {
      "cell_type": "markdown",
      "source": [
        "q.no.7) How do tuples ensure data integrity in Python?"
      ],
      "metadata": {
        "id": "Dct3ddkgD6x3"
      }
    },
    {
      "cell_type": "markdown",
      "source": [
        "        -> tuples are ensure the data integrity by its immutiblity ,  means once its creation data arenot change , add, modify or removed\n",
        "        immutiblity are provide thats benefits . in\n",
        "        tuple data are not change so in future user are access that tuple data are provide as it is ."
      ],
      "metadata": {
        "id": "x0Kmd3UfECs1"
      }
    },
    {
      "cell_type": "markdown",
      "source": [
        "q.no.8) What is a hash table, and how does it relate to dictionaries in Python?"
      ],
      "metadata": {
        "id": "awpeEJmFF7NG"
      }
    },
    {
      "cell_type": "markdown",
      "source": [
        "        -> hash table is also known as hash map , this fundamental data structure in computer science , this store the data in the form of key or value pair\n",
        "        dict() data type is a direct or highly optimize implementation of a hash table when we create a dictionary we working with hashh table dict() are also strore the data in key or value form  "
      ],
      "metadata": {
        "id": "VCEI5E6sGDRr"
      }
    },
    {
      "cell_type": "markdown",
      "source": [
        "q.no.9) Can lists contain different data types in Python?"
      ],
      "metadata": {
        "id": "TsBwbn22H6WX"
      }
    },
    {
      "cell_type": "markdown",
      "source": [
        "        -> yes , list are contain diffrent type of data type , this is most powerful and flexible feature."
      ],
      "metadata": {
        "id": "k9ty6YQpICH8"
      }
    },
    {
      "cell_type": "markdown",
      "source": [
        "q.no.10) Explain why strings are immutable in Python ?"
      ],
      "metadata": {
        "id": "uWcdegONIeS-"
      }
    },
    {
      "cell_type": "markdown",
      "source": [
        "        -> In python striing are immutable , that ensure once we create a string , its value will remain the same . these predictability makes code easier\n",
        "        as based on security this most sutaible for sensitive data like password , file path .\n"
      ],
      "metadata": {
        "id": "jX2kWGTQInt8"
      }
    },
    {
      "cell_type": "markdown",
      "source": [
        "q.no.11) What advantages do dictionaries offer over lists for certain tasks ?"
      ],
      "metadata": {
        "id": "f1SddQ-KKO_1"
      }
    },
    {
      "cell_type": "markdown",
      "source": [
        "        -> distionaries offer several advantages for certain task , meally due to their key-value pair and hash table implementation\n",
        "        and the advantages is -:\n",
        "        1) average time complexity\n",
        "        2) list of specific items\n",
        "        3) meaning ful data management\n",
        "        4) flexible data structure\n",
        "        5) easy data access and modify"
      ],
      "metadata": {
        "id": "8YfOOFUnbNPN"
      }
    },
    {
      "cell_type": "markdown",
      "source": [
        "q.no.12) Describe a scenario where using a tuple would be preferable over a list"
      ],
      "metadata": {
        "id": "Z1njqJEnd4ew"
      }
    },
    {
      "cell_type": "markdown",
      "source": [
        "        -> In python tuple are immutible , means after its creation we cannot modify element in tuples,so tuple are preferable over a list is when we need to represent a fixed collection of related items that should not change\n",
        "        example :a geographial points , store a performance of a company , banking (immutable) data"
      ],
      "metadata": {
        "id": "0_h4g-dPePWu"
      }
    },
    {
      "cell_type": "markdown",
      "source": [
        "q.no.13) How do sets handle duplicate values in Python ?"
      ],
      "metadata": {
        "id": "GBMgYTjmfwnY"
      }
    },
    {
      "cell_type": "markdown",
      "source": [
        "        -> sets in python handle the duplicate value automatically eliminating themself , if user are entre duplicate value in a set , set are ignor that value and show unique element  "
      ],
      "metadata": {
        "id": "3WHY6ejXf30Q"
      }
    },
    {
      "cell_type": "markdown",
      "source": [
        "q.no.14) How does the “in” keyword work differently for lists and dictionaries ?"
      ],
      "metadata": {
        "id": "5tO1BkXSpLux"
      }
    },
    {
      "cell_type": "markdown",
      "source": [
        "        ->In python \"in\" keyword is used for testing , but its  differs between list and dictionaies\n",
        "        \"in\" with list - for list \"in\" kwyword cheaks the presence of that particular value , its helps in search a specific value\n",
        "        \"in\" with dict - for dict,\"in\" keyword cheak presence of \"key\" in dict"
      ],
      "metadata": {
        "id": "1Ie3aLfjpZM7"
      }
    },
    {
      "cell_type": "markdown",
      "source": [
        "q.no.15) Can you modify the elements of a tuple? Explain why or why not"
      ],
      "metadata": {
        "id": "8ipr1vPYqtj7"
      }
    },
    {
      "cell_type": "markdown",
      "source": [
        "          -> no, we cannot modify the element of tuple , tuple are immutable data type in python after it has been crated we cananot change its element\n",
        "          if we try to modify its element python raise typeerror"
      ],
      "metadata": {
        "id": "kOcW8o-Zq3ea"
      }
    },
    {
      "cell_type": "markdown",
      "source": [
        "q.no.16)What is a nested dictionary, and give an example of its use case ?"
      ],
      "metadata": {
        "id": "Z9LRm2Assd8K"
      }
    },
    {
      "cell_type": "markdown",
      "source": [
        "          -> a nested dictionary have some values are themselves dictionary , means a main dictionary have sub dictoonary\n",
        "\n",
        "          its use in - school , banks, customers details"
      ],
      "metadata": {
        "id": "egeSlkV9WA0j"
      }
    },
    {
      "cell_type": "markdown",
      "source": [
        "q.no.17) Describe the time complexity of accessing elements in a dictionary ?"
      ],
      "metadata": {
        "id": "1p-smKm2W7pJ"
      }
    },
    {
      "cell_type": "markdown",
      "source": [
        "        -> the time complexity of accending elements in a dict - O(1)"
      ],
      "metadata": {
        "id": "fjNACKqEXEZY"
      }
    },
    {
      "cell_type": "markdown",
      "source": [
        "q.no.18) In what situations are lists preferred over dictionaries ?"
      ],
      "metadata": {
        "id": "jVV5kiY_Xarr"
      }
    },
    {
      "cell_type": "markdown",
      "source": [
        "          -> list are more preferreable in when order of element are matter , when we need numarical index,when we performsome operation on list ,when store duplicate value.\n",
        "\n"
      ],
      "metadata": {
        "id": "rQWNtLcKXkmX"
      }
    },
    {
      "cell_type": "markdown",
      "source": [
        "q.no.19) Why are dictionaries considered unordered, and how does that affect data retrieval ?"
      ],
      "metadata": {
        "id": "d3mC5f1RYagB"
      }
    },
    {
      "cell_type": "markdown",
      "source": [
        "        -> dictionaries are unordered because, hash table implementation (this store the value in key:value format) , no indexing  (element are not access by numarical index )\n",
        "\n",
        "        this affect data retrival - , if you iterated over a dictionary, the order of elements you received could seem arbitrary and might even vary between different runs of the same program or different Python implementations. This meant you could not rely on the order of items"
      ],
      "metadata": {
        "id": "PFmor1lxYith"
      }
    },
    {
      "cell_type": "markdown",
      "source": [
        "q.no.20) Explain the difference between a list and a dictionary in terms of data retrieval."
      ],
      "metadata": {
        "id": "i_jjO0-PbHJC"
      }
    },
    {
      "cell_type": "markdown",
      "source": [
        "        -> LIST- *in list we retrival by its indexing position\n",
        "        that means list are stor the data in ordered and also\n",
        "        we perform the slicing method\n",
        "\n",
        "        DICTIONARY - in dict() we reteiv the data by accociation (key)\n",
        "        in dict.  has unique key we provide that key which value we want that key acts as an identifier for the value"
      ],
      "metadata": {
        "id": "E13hmA0ubS0Q"
      }
    },
    {
      "cell_type": "markdown",
      "source": [
        "#Practical Questions"
      ],
      "metadata": {
        "id": "vXvZFg1TUpyw"
      }
    },
    {
      "cell_type": "markdown",
      "source": [
        "q.no.1) Write a code to create a string with your name and print it"
      ],
      "metadata": {
        "id": "s34383ExUwvS"
      }
    },
    {
      "cell_type": "code",
      "source": [
        "name=\"muskan sharma\"\n",
        "print(name)"
      ],
      "metadata": {
        "colab": {
          "base_uri": "https://localhost:8080/"
        },
        "id": "S7DNae1-U21O",
        "outputId": "1476881a-11f0-4360-9b56-b9e3f3c5f999"
      },
      "execution_count": null,
      "outputs": [
        {
          "output_type": "stream",
          "name": "stdout",
          "text": [
            "muskan sharma\n"
          ]
        }
      ]
    },
    {
      "cell_type": "markdown",
      "source": [
        "q.no.2) Write a code to find the length of the string \"Hello World\""
      ],
      "metadata": {
        "id": "B69PE620VFd_"
      }
    },
    {
      "cell_type": "code",
      "source": [
        "x=\"hello world\"\n",
        "print(len(x))"
      ],
      "metadata": {
        "colab": {
          "base_uri": "https://localhost:8080/"
        },
        "id": "mNq6qybdVPeg",
        "outputId": "766f9600-28ad-44de-8024-412a99ced58a"
      },
      "execution_count": null,
      "outputs": [
        {
          "output_type": "stream",
          "name": "stdout",
          "text": [
            "11\n"
          ]
        }
      ]
    },
    {
      "cell_type": "markdown",
      "source": [
        "q.no.3)Write a code to slice the first 3 characters from the string \"Python Programming\""
      ],
      "metadata": {
        "id": "c9ep9-71Va-3"
      }
    },
    {
      "cell_type": "code",
      "source": [
        "y=\"python programming\"\n",
        "print(y[0:3])"
      ],
      "metadata": {
        "colab": {
          "base_uri": "https://localhost:8080/"
        },
        "id": "fmvgnzGZVhz_",
        "outputId": "2b32c5ad-f8ae-49a7-ce40-e06374322dfb"
      },
      "execution_count": null,
      "outputs": [
        {
          "output_type": "stream",
          "name": "stdout",
          "text": [
            "pyt\n"
          ]
        }
      ]
    },
    {
      "cell_type": "markdown",
      "source": [
        "q.no.4)Write a code to convert the string \"hello\" to uppercase"
      ],
      "metadata": {
        "id": "VBn_zd5vWA7H"
      }
    },
    {
      "cell_type": "code",
      "source": [
        "a=\"hello\"\n",
        "b=a.upper()\n",
        "print(b)"
      ],
      "metadata": {
        "colab": {
          "base_uri": "https://localhost:8080/"
        },
        "id": "AezAeBdHWGFh",
        "outputId": "c8a50240-efeb-445d-da12-e5526f126e8b"
      },
      "execution_count": null,
      "outputs": [
        {
          "output_type": "stream",
          "name": "stdout",
          "text": [
            "HELLO\n"
          ]
        }
      ]
    },
    {
      "cell_type": "markdown",
      "source": [
        "q.no.5)Write a code to replace the word \"apple\" with \"orange\" in the string \"I like apple\""
      ],
      "metadata": {
        "id": "spx-9N6LXcro"
      }
    },
    {
      "cell_type": "code",
      "source": [
        "B=\"i like apple\"\n",
        "b=B.replace(\"apple\",\"orenge\")\n",
        "print(B)\n",
        "print(b)"
      ],
      "metadata": {
        "colab": {
          "base_uri": "https://localhost:8080/"
        },
        "id": "kgzjc7R4XmAZ",
        "outputId": "587d587b-59e4-4bbd-c6ce-433452b221f7"
      },
      "execution_count": null,
      "outputs": [
        {
          "output_type": "stream",
          "name": "stdout",
          "text": [
            "i like apple\n",
            "i like orenge\n"
          ]
        }
      ]
    },
    {
      "cell_type": "markdown",
      "source": [
        "q.no.6) Write a code to create a list with numbers 1 to 5 and print it"
      ],
      "metadata": {
        "id": "WzA2e_QGYWCg"
      }
    },
    {
      "cell_type": "code",
      "source": [
        "num=[1,2,3,4,5]\n",
        "print(num)"
      ],
      "metadata": {
        "colab": {
          "base_uri": "https://localhost:8080/"
        },
        "id": "EX--kVU8Ydj_",
        "outputId": "31f845a1-eee7-4656-ba58-caee457fa8b1"
      },
      "execution_count": null,
      "outputs": [
        {
          "output_type": "stream",
          "name": "stdout",
          "text": [
            "[1, 2, 3, 4, 5]\n"
          ]
        }
      ]
    },
    {
      "cell_type": "markdown",
      "source": [
        "q.no.7)Write a code to append the number 10 to the list [1, 2, 3, 4]"
      ],
      "metadata": {
        "id": "es63GsOgZDja"
      }
    },
    {
      "cell_type": "code",
      "source": [
        "num1=list(range(1,5))\n",
        "num1.append(10)\n",
        "print(num1)"
      ],
      "metadata": {
        "colab": {
          "base_uri": "https://localhost:8080/"
        },
        "id": "0ugvgj4zZMKL",
        "outputId": "266ce53d-a437-47b3-9832-3c9f66a3910d"
      },
      "execution_count": null,
      "outputs": [
        {
          "output_type": "stream",
          "name": "stdout",
          "text": [
            "[1, 2, 3, 4, 10]\n"
          ]
        }
      ]
    },
    {
      "cell_type": "markdown",
      "source": [
        "q.no.8)Write a code to remove the number 3 from the list [1, 2, 3, 4, 5]"
      ],
      "metadata": {
        "id": "vuSFzZhbZxOy"
      }
    },
    {
      "cell_type": "code",
      "source": [
        "num2=list(range(1,6))\n",
        "print(num2)\n",
        "num2.remove(3)\n",
        "print(num2)"
      ],
      "metadata": {
        "colab": {
          "base_uri": "https://localhost:8080/"
        },
        "id": "Ff4mG7KXZ6XA",
        "outputId": "0750e63e-2dd4-459a-d510-a6aba92d6b9a"
      },
      "execution_count": null,
      "outputs": [
        {
          "output_type": "stream",
          "name": "stdout",
          "text": [
            "[1, 2, 3, 4, 5]\n",
            "[1, 2, 4, 5]\n"
          ]
        }
      ]
    },
    {
      "cell_type": "markdown",
      "source": [
        "q.no.9)Write a code to access the second element in the list ['a', 'b', 'c', 'd']"
      ],
      "metadata": {
        "id": "eKkCrybUaPsz"
      }
    },
    {
      "cell_type": "code",
      "source": [
        "ab=['a','b','c','d']\n",
        "print(ab[1])"
      ],
      "metadata": {
        "colab": {
          "base_uri": "https://localhost:8080/"
        },
        "id": "5ttbGU7wcI6b",
        "outputId": "c9921d6f-bae3-4e00-a0e6-fd5df8c2a763"
      },
      "execution_count": null,
      "outputs": [
        {
          "output_type": "stream",
          "name": "stdout",
          "text": [
            "b\n"
          ]
        }
      ]
    },
    {
      "cell_type": "markdown",
      "source": [
        "q.no.10)Write a code to reverse the list [10, 20, 30, 40, 50]"
      ],
      "metadata": {
        "id": "4J5xoJ6tcS8C"
      }
    },
    {
      "cell_type": "code",
      "source": [
        "num3=[10,20,30,40,50]\n",
        "print(num3)\n",
        "num3.reverse()\n",
        "print(num3)"
      ],
      "metadata": {
        "colab": {
          "base_uri": "https://localhost:8080/"
        },
        "id": "rJ4YNQ28cZTJ",
        "outputId": "d3d18941-11df-4ba4-f86d-a18b521288d0"
      },
      "execution_count": null,
      "outputs": [
        {
          "output_type": "stream",
          "name": "stdout",
          "text": [
            "[10, 20, 30, 40, 50]\n",
            "[50, 40, 30, 20, 10]\n"
          ]
        }
      ]
    },
    {
      "cell_type": "markdown",
      "source": [
        "q.no.11)Write a code to create a tuple with the elements 100, 200, 300 and print it."
      ],
      "metadata": {
        "id": "PG_r1xjzc6kp"
      }
    },
    {
      "cell_type": "code",
      "source": [
        "tup=(100,200,300)\n",
        "print(tup)"
      ],
      "metadata": {
        "colab": {
          "base_uri": "https://localhost:8080/"
        },
        "id": "Wl_artxCdF2q",
        "outputId": "5d6bad25-3c36-45b2-e91c-dded22fcfb20"
      },
      "execution_count": null,
      "outputs": [
        {
          "output_type": "stream",
          "name": "stdout",
          "text": [
            "(100, 200, 300)\n"
          ]
        }
      ]
    },
    {
      "cell_type": "markdown",
      "source": [
        "q.no.12)Write a code to access the second-to-last element of the tuple ('red', 'green', 'blue', 'yellow')."
      ],
      "metadata": {
        "id": "MZt1isk4dOpJ"
      }
    },
    {
      "cell_type": "code",
      "source": [
        "tup1=('red','green','blue','yellow')\n",
        "print(tup1[-2])\n"
      ],
      "metadata": {
        "colab": {
          "base_uri": "https://localhost:8080/"
        },
        "id": "tIuBdQaSdYcz",
        "outputId": "ef87e28e-9c4b-4614-81c5-aa9d2122aca5"
      },
      "execution_count": null,
      "outputs": [
        {
          "output_type": "stream",
          "name": "stdout",
          "text": [
            "blue\n"
          ]
        }
      ]
    },
    {
      "cell_type": "markdown",
      "source": [
        "q.no.13) Write a code to find the minimum number in the tuple (10, 20, 5, 15)."
      ],
      "metadata": {
        "id": "qP1XaMwjeJvK"
      }
    },
    {
      "cell_type": "code",
      "source": [
        "num4=(10,20,5,15)\n",
        "print(min(num4))"
      ],
      "metadata": {
        "colab": {
          "base_uri": "https://localhost:8080/"
        },
        "id": "zLj-uasBeNqY",
        "outputId": "d505cc2f-f6c9-4627-febd-def3de23be0d"
      },
      "execution_count": null,
      "outputs": [
        {
          "output_type": "stream",
          "name": "stdout",
          "text": [
            "5\n"
          ]
        }
      ]
    },
    {
      "cell_type": "markdown",
      "source": [
        "q.no.14) Write a code to find the index of the element \"cat\" in the tuple ('dog', 'cat', 'rabbit')."
      ],
      "metadata": {
        "id": "-vDt4GhBesZL"
      }
    },
    {
      "cell_type": "code",
      "source": [
        "tup2=('dog','cat','rabbit')\n",
        "print(tup2.index('cat'))"
      ],
      "metadata": {
        "colab": {
          "base_uri": "https://localhost:8080/"
        },
        "id": "-G_QM08-eyt9",
        "outputId": "7da87ef0-8fbe-436c-bf77-7eed6c104acf"
      },
      "execution_count": null,
      "outputs": [
        {
          "output_type": "stream",
          "name": "stdout",
          "text": [
            "1\n"
          ]
        }
      ]
    },
    {
      "cell_type": "markdown",
      "source": [
        "q.no.15)Write a code to create a tuple containing three different fruits and check if \"kiwi\" is in it"
      ],
      "metadata": {
        "id": "_QTKb97BfLIK"
      }
    },
    {
      "cell_type": "code",
      "source": [
        "tup5=('apple','banana','kiwi')\n",
        "print('kiwi' in tup5)"
      ],
      "metadata": {
        "colab": {
          "base_uri": "https://localhost:8080/"
        },
        "id": "4lS2s-C4fU0L",
        "outputId": "55733a29-73ef-4dba-ad3f-30c8de82d78e"
      },
      "execution_count": null,
      "outputs": [
        {
          "output_type": "stream",
          "name": "stdout",
          "text": [
            "True\n"
          ]
        }
      ]
    },
    {
      "cell_type": "markdown",
      "source": [
        "q.no.16)Write a code to create a set with the elements 'a', 'b', 'c' and print it."
      ],
      "metadata": {
        "id": "kwqg8t_RfqmD"
      }
    },
    {
      "cell_type": "code",
      "source": [
        "a={'a','b','c'}\n",
        "print(a)"
      ],
      "metadata": {
        "colab": {
          "base_uri": "https://localhost:8080/"
        },
        "id": "Fubo5iyGfxYZ",
        "outputId": "f3b66122-04a6-48c9-f98f-7eb673a1c7e1"
      },
      "execution_count": null,
      "outputs": [
        {
          "output_type": "stream",
          "name": "stdout",
          "text": [
            "{'b', 'a', 'c'}\n"
          ]
        }
      ]
    },
    {
      "cell_type": "markdown",
      "source": [
        "q.no.17) Write a code to clear all elements from the set {1, 2, 3, 4, 5}."
      ],
      "metadata": {
        "id": "saC2X-fg4EfR"
      }
    },
    {
      "cell_type": "code",
      "source": [
        "num4={1,2,3,4,5}\n",
        "print(num4)\n",
        "num4.clear()\n",
        "print(num4)"
      ],
      "metadata": {
        "colab": {
          "base_uri": "https://localhost:8080/"
        },
        "id": "b9r3o3_L4K1-",
        "outputId": "e4c0b855-44b7-48e3-cfc9-3e752ceb474c"
      },
      "execution_count": 2,
      "outputs": [
        {
          "output_type": "stream",
          "name": "stdout",
          "text": [
            "{1, 2, 3, 4, 5}\n",
            "set()\n"
          ]
        }
      ]
    },
    {
      "cell_type": "markdown",
      "source": [
        "q.no.18)  Write a code to remove the element 4 from the set {1, 2, 3, 4}"
      ],
      "metadata": {
        "id": "b7J6pDHr4jGa"
      }
    },
    {
      "cell_type": "code",
      "source": [
        "num5={1,2,3,4}\n",
        "print(num5)\n",
        "num5.remove(4)\n",
        "print(num5)"
      ],
      "metadata": {
        "colab": {
          "base_uri": "https://localhost:8080/"
        },
        "id": "YBujB6Gp4wUd",
        "outputId": "19fdad55-06a3-4079-9db0-b25ab0e7e11a"
      },
      "execution_count": 3,
      "outputs": [
        {
          "output_type": "stream",
          "name": "stdout",
          "text": [
            "{1, 2, 3, 4}\n",
            "{1, 2, 3}\n"
          ]
        }
      ]
    },
    {
      "cell_type": "markdown",
      "source": [
        "q.no.19) Write a code to find the union of two sets {1, 2, 3} and {3, 4, 5}"
      ],
      "metadata": {
        "id": "ArmvwCRJ5BVD"
      }
    },
    {
      "cell_type": "code",
      "source": [
        "set1={1,2,3}\n",
        "set2={3,4,5}\n",
        "print(set1.union(set2))\n"
      ],
      "metadata": {
        "colab": {
          "base_uri": "https://localhost:8080/"
        },
        "id": "taUH5DVV5Ilr",
        "outputId": "770b4e80-83b7-4d26-e3b0-3d011692fcaf"
      },
      "execution_count": 4,
      "outputs": [
        {
          "output_type": "stream",
          "name": "stdout",
          "text": [
            "{1, 2, 3, 4, 5}\n"
          ]
        }
      ]
    },
    {
      "cell_type": "markdown",
      "source": [
        "q.no.20) Write a code to find the intersection of two sets {1, 2, 3} and {2, 3, 4}."
      ],
      "metadata": {
        "id": "jHeErmc45ov-"
      }
    },
    {
      "cell_type": "code",
      "source": [
        "set3={1,2,3}\n",
        "set4={2,3,4}\n",
        "print(set3.intersection(set4))"
      ],
      "metadata": {
        "colab": {
          "base_uri": "https://localhost:8080/"
        },
        "id": "5gpjdF7G5v-9",
        "outputId": "68e17f01-1c20-48f8-fa13-99caf6f1dfb6"
      },
      "execution_count": 5,
      "outputs": [
        {
          "output_type": "stream",
          "name": "stdout",
          "text": [
            "{2, 3}\n"
          ]
        }
      ]
    },
    {
      "cell_type": "markdown",
      "source": [
        "q.no.21) Write a code to create a dictionary with the keys \"name\", \"age\", and \"city\", and print it."
      ],
      "metadata": {
        "id": "5o1wxzG76EZi"
      }
    },
    {
      "cell_type": "code",
      "source": [
        "AB= {\n",
        "     \"name\":\"muskan\",\n",
        "     \"age\":20,\n",
        "     \"city\":\"delhi\"\n",
        "    }\n",
        "print(AB)"
      ],
      "metadata": {
        "colab": {
          "base_uri": "https://localhost:8080/"
        },
        "id": "d3csFqcO6Lik",
        "outputId": "bcfeb0c5-c1d6-48be-e166-4c301ece2fed"
      },
      "execution_count": 10,
      "outputs": [
        {
          "output_type": "stream",
          "name": "stdout",
          "text": [
            "{'name': 'muskan', 'age': 20, 'city': 'delhi'}\n"
          ]
        }
      ]
    },
    {
      "cell_type": "markdown",
      "source": [
        "q.no.22) Write a code to add a new key-value pair \"country\": \"USA\" to the dictionary {'name': 'John', 'age': 25}."
      ],
      "metadata": {
        "id": "dse-Q82K7Rb0"
      }
    },
    {
      "cell_type": "code",
      "source": [
        "AB= {\n",
        "     \"name\":\"john\",\n",
        "     \"age\":25,\n",
        "    }\n",
        "print(AB)\n",
        "AB[\"country\"]=\"USA\"\n",
        "print(AB)\n"
      ],
      "metadata": {
        "colab": {
          "base_uri": "https://localhost:8080/"
        },
        "id": "dnako01w7XRM",
        "outputId": "3c3d90b0-86aa-4e50-f3c2-2b1279c06f35"
      },
      "execution_count": 11,
      "outputs": [
        {
          "output_type": "stream",
          "name": "stdout",
          "text": [
            "{'name': 'john', 'age': 25}\n",
            "{'name': 'john', 'age': 25, 'country': 'USA'}\n"
          ]
        }
      ]
    },
    {
      "cell_type": "markdown",
      "source": [
        "q.no.23)  Write a code to access the value associated with the key \"name\" in the dictionary {'name': 'Alice', 'age': 30}."
      ],
      "metadata": {
        "id": "bM12Fu_w742s"
      }
    },
    {
      "cell_type": "code",
      "source": [
        "AB= {\n",
        "     \"name\":\"alice\",\n",
        "     \"age\":30,\n",
        "    }\n",
        "print(AB[\"name\"])"
      ],
      "metadata": {
        "colab": {
          "base_uri": "https://localhost:8080/"
        },
        "id": "5LTAWcS58BgN",
        "outputId": "d194d16c-6035-44d9-b107-abaadee1a819"
      },
      "execution_count": 12,
      "outputs": [
        {
          "output_type": "stream",
          "name": "stdout",
          "text": [
            "alice\n"
          ]
        }
      ]
    },
    {
      "cell_type": "markdown",
      "source": [
        "q.no.24)Write a code to remove the key \"age\" from the dictionary {'name': 'Bob', 'age': 22, 'city': 'New York'}."
      ],
      "metadata": {
        "id": "FCkE1tdW8Q4l"
      }
    },
    {
      "cell_type": "code",
      "source": [
        "AB={'name': 'Bob', 'age': 22, 'city': 'New York'}\n",
        "print(AB)\n",
        "del AB[\"age\"]\n",
        "print(AB)"
      ],
      "metadata": {
        "colab": {
          "base_uri": "https://localhost:8080/"
        },
        "id": "BHqnPtQa8WBU",
        "outputId": "4aebbafb-c658-4d58-a584-6ccbec73ca9c"
      },
      "execution_count": 13,
      "outputs": [
        {
          "output_type": "stream",
          "name": "stdout",
          "text": [
            "{'name': 'Bob', 'age': 22, 'city': 'New York'}\n",
            "{'name': 'Bob', 'city': 'New York'}\n"
          ]
        }
      ]
    },
    {
      "cell_type": "markdown",
      "source": [
        "q.no.25) Write a code to check if the key \"city\" exists in the dictionary {'name': 'Alice', 'city': 'Paris'}."
      ],
      "metadata": {
        "id": "pjIaY0uZ9Ad0"
      }
    },
    {
      "cell_type": "code",
      "source": [
        "Ab={'name': 'Alice', 'city': 'Paris'}\n",
        "print(\"city\" in Ab)"
      ],
      "metadata": {
        "colab": {
          "base_uri": "https://localhost:8080/"
        },
        "id": "hNXtB_6e9JxU",
        "outputId": "212d52ef-122f-4ed5-aa1e-b5a6dfea1e99"
      },
      "execution_count": 14,
      "outputs": [
        {
          "output_type": "stream",
          "name": "stdout",
          "text": [
            "True\n"
          ]
        }
      ]
    },
    {
      "cell_type": "markdown",
      "source": [
        "q.no.26) Write a code to create a list, a tuple, and a dictionary, and print them all."
      ],
      "metadata": {
        "id": "sid4gBcB9hRG"
      }
    },
    {
      "cell_type": "code",
      "source": [
        "AB=list(range(1,6))\n",
        "print(AB)\n",
        "ab=(1,2,3,4,5)\n",
        "print(ab)\n",
        "Ab={\n",
        "    \"name\":\"muskan\",\n",
        "    \"age\":20,\n",
        "    }\n",
        "print(Ab)"
      ],
      "metadata": {
        "colab": {
          "base_uri": "https://localhost:8080/"
        },
        "id": "S7-Z7GVB9pkQ",
        "outputId": "844aa274-0a45-4f17-bb8a-3e9cfbd8169c"
      },
      "execution_count": 15,
      "outputs": [
        {
          "output_type": "stream",
          "name": "stdout",
          "text": [
            "[1, 2, 3, 4, 5]\n",
            "(1, 2, 3, 4, 5)\n",
            "{'name': 'muskan', 'age': 20}\n"
          ]
        }
      ]
    },
    {
      "cell_type": "markdown",
      "source": [
        "q.no.27)Write a code to create a list of 5 random numbers between 1 and 100, sort it in ascending order, and print the\n",
        "result.(replaced)"
      ],
      "metadata": {
        "id": "6v_T4eoB-k31"
      }
    },
    {
      "cell_type": "code",
      "source": [
        "import random\n",
        "list1=random.sample(range(1,101),5)\n",
        "print(list1)\n",
        "list1.sort()\n",
        "print(list1)\n"
      ],
      "metadata": {
        "colab": {
          "base_uri": "https://localhost:8080/"
        },
        "id": "6wwIgp9b-yZg",
        "outputId": "b65c8d9a-f4e9-4e49-d2b2-23cc0663ad9f"
      },
      "execution_count": 16,
      "outputs": [
        {
          "output_type": "stream",
          "name": "stdout",
          "text": [
            "[97, 13, 51, 96, 55]\n",
            "[13, 51, 55, 96, 97]\n"
          ]
        }
      ]
    },
    {
      "cell_type": "markdown",
      "source": [
        "q.no.28) Write a code to create a list with strings and print the element at the third index."
      ],
      "metadata": {
        "id": "ov0m8ZqI_zWH"
      }
    },
    {
      "cell_type": "code",
      "source": [
        "list2 =[\"apple\",\"banana\",\"kiwi\",\"graps\"]\n",
        "print(list2[3])"
      ],
      "metadata": {
        "colab": {
          "base_uri": "https://localhost:8080/"
        },
        "id": "x_Doz7wB_7AG",
        "outputId": "3be9919f-e5cd-4a8c-bf4d-4abe51485f05"
      },
      "execution_count": 20,
      "outputs": [
        {
          "output_type": "stream",
          "name": "stdout",
          "text": [
            "graps\n"
          ]
        }
      ]
    },
    {
      "cell_type": "markdown",
      "source": [
        "q.no.29)Write a code to combine two dictionaries into one and print the result."
      ],
      "metadata": {
        "id": "NEcmgWv2AgZQ"
      }
    },
    {
      "cell_type": "code",
      "source": [
        "num1={\n",
        "    \"name\":\"muskan\",\n",
        "    \"age\":20,\n",
        "}\n",
        "num2={\n",
        "    \"city\":\"delhi\",\n",
        "    \"country\":\"india\",\n",
        "}\n",
        "print(num1)\n",
        "print(num2)\n",
        "num1.update(num2)\n",
        "print(num1)\n"
      ],
      "metadata": {
        "colab": {
          "base_uri": "https://localhost:8080/"
        },
        "id": "rXrKHmR_AnW8",
        "outputId": "8f7d97d3-940a-4dd4-a8ab-44a28b513b19"
      },
      "execution_count": 22,
      "outputs": [
        {
          "output_type": "stream",
          "name": "stdout",
          "text": [
            "{'name': 'muskan', 'age': 20}\n",
            "{'city': 'delhi', 'country': 'india'}\n",
            "{'name': 'muskan', 'age': 20, 'city': 'delhi', 'country': 'india'}\n"
          ]
        }
      ]
    },
    {
      "cell_type": "markdown",
      "source": [
        "q.no.30)Write a code to convert a list of strings into a set."
      ],
      "metadata": {
        "id": "BW-mNG1uB-iv"
      }
    },
    {
      "cell_type": "code",
      "source": [
        "str1=[\"mango\",\"apple\",\"kiwi\",\"graps\"]\n",
        "print(str1)\n",
        "str2=set(str1)\n",
        "print(str2)\n"
      ],
      "metadata": {
        "colab": {
          "base_uri": "https://localhost:8080/"
        },
        "id": "iGsdfEXaCFGC",
        "outputId": "9029a4bf-3cfb-451c-e245-7bd918b082e7"
      },
      "execution_count": 23,
      "outputs": [
        {
          "output_type": "stream",
          "name": "stdout",
          "text": [
            "['mango', 'apple', 'kiwi', 'graps']\n",
            "{'apple', 'graps', 'kiwi', 'mango'}\n"
          ]
        }
      ]
    }
  ]
}